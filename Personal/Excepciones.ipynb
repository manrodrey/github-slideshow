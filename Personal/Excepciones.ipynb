{
 "cells": [
  {
   "cell_type": "code",
   "execution_count": null,
   "metadata": {},
   "outputs": [],
   "source": [
    "# Para las excepciones se pondria:\n",
    "def divide(num1,num2):\n",
    "    try:\n",
    "        return num1/num2\n",
    "    except ZeroDivisionError: # Si el error no es este, el programa caerá igualmente\n",
    "        print('No se puede dividir por 0')\n",
    "        return 'Operación errónea'"
   ]
  },
  {
   "cell_type": "code",
   "execution_count": null,
   "metadata": {},
   "outputs": [],
   "source": [
    "# Otro ejemplo: queremos que se introduzcan numeros\n",
    "# El while me vale para que \n",
    "while True:\n",
    "    try:\n",
    "        op1=int(input('Introduce el primer número: '))\n",
    "        op2=int(input('Introduce el segundo número: '))\n",
    "        \n",
    "        break\n",
    "        \n",
    "    except ValueError:\n",
    "        print('Los valores introducidos no son correctos, intentalo de nuevo')"
   ]
  },
  {
   "cell_type": "code",
   "execution_count": 1,
   "metadata": {},
   "outputs": [],
   "source": [
    "# Para que siga corriendo con 2 excepts seguidos\n",
    "def divide():\n",
    "    try:\n",
    "        op1=(float(input('Introduce el primer numero: ')))\n",
    "        op2=(float(input('Introduce el segundo numero: ')))\n",
    "    \n",
    "        print('La division es: ' + str(op1/op2))\n",
    "        \n",
    "    except ValueError:\n",
    "        print('El valor introducido es erroneo')\n",
    "        \n",
    "    except ZeroDivisionError:\n",
    "        print('No se puede dividir por 0')\n",
    "    \n",
    "    finally: # lo que metes en finally se ejecute siempre\n",
    "        print('Cálculo finalizado')"
   ]
  },
  {
   "cell_type": "code",
   "execution_count": null,
   "metadata": {},
   "outputs": [],
   "source": [
    "# Para excepciones generales\n",
    "def divide():\n",
    "    try:\n",
    "        op1=(float(input('Introduce el primer numero: ')))\n",
    "        op2=(float(input('Introduce el segundo numero: ')))\n",
    "    \n",
    "        print('La division es: ' + str(op1/op2))\n",
    "        \n",
    "    except:\n",
    "        print('Ha ocurrido un error')\n",
    "        \n",
    "    print('Cálculo finalizado')"
   ]
  }
 ],
 "metadata": {
  "kernelspec": {
   "display_name": "Python 3",
   "language": "python",
   "name": "python3"
  },
  "language_info": {
   "codemirror_mode": {
    "name": "ipython",
    "version": 3
   },
   "file_extension": ".py",
   "mimetype": "text/x-python",
   "name": "python",
   "nbconvert_exporter": "python",
   "pygments_lexer": "ipython3",
   "version": "3.8.3"
  }
 },
 "nbformat": 4,
 "nbformat_minor": 4
}
