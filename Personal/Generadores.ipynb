{
 "cells": [
  {
   "cell_type": "code",
   "execution_count": null,
   "metadata": {},
   "outputs": [],
   "source": [
    "# Devuelven un solo valor de lo que queremos generar, al contrario que las funciones tradicionales\n",
    "#que generan todos los valores para después devolverlo."
   ]
  },
  {
   "cell_type": "code",
   "execution_count": 1,
   "metadata": {},
   "outputs": [],
   "source": [
    "# Sintaxis de un Generador: igual que una funcion per com yield en vez de return\n",
    "# Algunas veces puede llevar un return tambien\n",
    "# FUncion que devuelva numeros pares\n",
    "def generaPares(limite):\n",
    "    num = 1\n",
    "    miLista = []\n",
    "    while num < limite:\n",
    "        miLista.append(num*2)\n",
    "        num = num + 1\n",
    "    return miLista"
   ]
  },
  {
   "cell_type": "code",
   "execution_count": 27,
   "metadata": {},
   "outputs": [],
   "source": [
    "# Ahora utilizar el generador:\n",
    "def generaPares2(limite):\n",
    "    num = 1\n",
    "    while num < limite:\n",
    "        yield num*2\n",
    "        num = num + 1"
   ]
  },
  {
   "cell_type": "code",
   "execution_count": 28,
   "metadata": {},
   "outputs": [],
   "source": [
    "# Necesito una variable para almacenar el objeto que devuelve el generador\n",
    "devuelvePares = generaPares2(10)"
   ]
  },
  {
   "cell_type": "code",
   "execution_count": 14,
   "metadata": {},
   "outputs": [
    {
     "name": "stdout",
     "output_type": "stream",
     "text": [
      "2\n",
      "4\n",
      "6\n",
      "8\n",
      "10\n",
      "12\n",
      "14\n",
      "16\n",
      "18\n"
     ]
    }
   ],
   "source": [
    "# Hay que recorrerolo con un bucle\n",
    "for i in devuelvePares:\n",
    "    print(i)"
   ]
  },
  {
   "cell_type": "code",
   "execution_count": 29,
   "metadata": {},
   "outputs": [
    {
     "name": "stdout",
     "output_type": "stream",
     "text": [
      "2\n"
     ]
    }
   ],
   "source": [
    "# SI solo quiero los 3 primeros valores:\n",
    "print(next(devuelvePares)) # Asi solo devuelve el primero y la proxima vez devolvera el siguiente"
   ]
  },
  {
   "cell_type": "code",
   "execution_count": 36,
   "metadata": {},
   "outputs": [
    {
     "name": "stdout",
     "output_type": "stream",
     "text": [
      "Madrid\n"
     ]
    }
   ],
   "source": [
    "# yield from\n",
    "def devuelve_ciudades(*ciudades): # El * es para que reciba un numero indeterminado de elementos en forma de tupla\n",
    "    for elemento in ciudades:\n",
    "        yield elemento\n",
    "        \n",
    "ciudades_devueltas=devuelve_ciudades('Madrid', 'Barcelona', 'Linares', 'Cádiz')\n",
    "\n",
    "print(next(ciudades_devueltas))\n"
   ]
  },
  {
   "cell_type": "code",
   "execution_count": 37,
   "metadata": {},
   "outputs": [
    {
     "name": "stdout",
     "output_type": "stream",
     "text": [
      "M\n"
     ]
    }
   ],
   "source": [
    "# Aqui nos devuelve un elemento (ciudad), si quiero que me devuelva las letras:\n",
    "def devuelve_ciudades3(*ciudades):\n",
    "    for elemento in ciudades:\n",
    "        yield from elemento\n",
    "        \n",
    "ciudades_devueltas3 = devuelve_ciudades3('Madrid', 'Barcelona', 'Linares', 'Cádiz')\n",
    "\n",
    "print(next(ciudades_devueltas3))"
   ]
  },
  {
   "cell_type": "code",
   "execution_count": null,
   "metadata": {},
   "outputs": [],
   "source": []
  }
 ],
 "metadata": {
  "kernelspec": {
   "display_name": "Python 3",
   "language": "python",
   "name": "python3"
  },
  "language_info": {
   "codemirror_mode": {
    "name": "ipython",
    "version": 3
   },
   "file_extension": ".py",
   "mimetype": "text/x-python",
   "name": "python",
   "nbconvert_exporter": "python",
   "pygments_lexer": "ipython3",
   "version": "3.8.3"
  }
 },
 "nbformat": 4,
 "nbformat_minor": 4
}
